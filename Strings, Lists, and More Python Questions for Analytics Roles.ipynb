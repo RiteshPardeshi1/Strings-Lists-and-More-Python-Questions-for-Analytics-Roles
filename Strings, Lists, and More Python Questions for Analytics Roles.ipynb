{
 "cells": [
  {
   "cell_type": "markdown",
   "id": "4462f074-3c92-4c58-8c3f-fd4434cdb9aa",
   "metadata": {},
   "source": [
    "# Introduction\n",
    "This notebook is a comprehensive guide to Python interview questions, specifically designed for candidates preparing for analytic roles such as Data Analysts, Data Scientists, or Business Analysts.\n",
    "\n",
    "### What You'll Find in This Notebook:\n",
    "### String Questions: \n",
    "Commonly asked problems that test string manipulation skills.\n",
    "### List Questions: \n",
    "Focus on operations, transformations, and understanding list comprehensions.\n",
    "### Miscellaneous Questions: \n",
    "Other key Python concepts that are frequently part of interview processes.\n",
    "These questions are curated based on real interview experiences and emphasize problem-solving techniques, logical reasoning, and writing efficient Python code.\n",
    "\n",
    "💡 Why Strings and Lists?\n",
    "Strings and lists are foundational data structures in Python. They are heavily used in data analysis tasks, making them a favorite topic for interviewers to assess your Python proficiency.\n",
    "\n",
    "Each question in this notebook includes:\n",
    "\n",
    "A clear problem statement\n",
    "A step-by-step solution\n",
    "By practicing these questions, you'll strengthen your Python skills and build confidence for tackling interview challenges."
   ]
  },
  {
   "cell_type": "markdown",
   "id": "7ecd8705-6c5b-4344-b1a7-73da31720589",
   "metadata": {},
   "source": [
    "### Check if string is palindrome\n",
    "\n"
   ]
  },
  {
   "cell_type": "code",
   "execution_count": 10,
   "id": "6eff99cb-d970-4a23-b370-9fc705d06ed7",
   "metadata": {},
   "outputs": [],
   "source": [
    "def is_palindrome(s):\n",
    "    s = s.lower().replace(\" \", \"\") # ignore case and space\n",
    "    return s == s[::-1]"
   ]
  },
  {
   "cell_type": "code",
   "execution_count": 5,
   "id": "0d5f4bd9-206a-48f6-b107-ed7b4386bf97",
   "metadata": {},
   "outputs": [
    {
     "name": "stdout",
     "output_type": "stream",
     "text": [
      "True\n"
     ]
    }
   ],
   "source": [
    "print(is_palindrome (\"Madam\"))"
   ]
  },
  {
   "cell_type": "markdown",
   "id": "39335202-60da-4de4-9ea5-b25e0d3fb928",
   "metadata": {},
   "source": [
    "### Reverse a String"
   ]
  },
  {
   "cell_type": "code",
   "execution_count": 12,
   "id": "8165d8ab-8d2d-48c9-a501-31410b2a8dca",
   "metadata": {},
   "outputs": [],
   "source": [
    "def reverse_string(s):\n",
    "    return s[::-1]"
   ]
  },
  {
   "cell_type": "code",
   "execution_count": 22,
   "id": "35922392-77c0-416b-9cdb-094309d752f5",
   "metadata": {},
   "outputs": [
    {
     "data": {
      "text/plain": [
       "'ihsedraP hsetiR'"
      ]
     },
     "execution_count": 22,
     "metadata": {},
     "output_type": "execute_result"
    }
   ],
   "source": [
    "reverse_string(\"Ritesh Pardeshi\")"
   ]
  },
  {
   "cell_type": "markdown",
   "id": "63940853-ee4d-456e-a603-38c4767a5844",
   "metadata": {},
   "source": [
    "### Count the number of words in a string"
   ]
  },
  {
   "cell_type": "code",
   "execution_count": 39,
   "id": "4bd92b6f-8999-45c7-8441-dbb7bafd17b7",
   "metadata": {},
   "outputs": [],
   "source": [
    "def count_words(s):\n",
    "    return len(s.split())"
   ]
  },
  {
   "cell_type": "code",
   "execution_count": 43,
   "id": "8195db23-eaf6-40a2-af40-96487a030c71",
   "metadata": {},
   "outputs": [
    {
     "name": "stdout",
     "output_type": "stream",
     "text": [
      "5\n"
     ]
    }
   ],
   "source": [
    "print(count_words(\"Python is a programming launguage\"))"
   ]
  },
  {
   "cell_type": "markdown",
   "id": "193d16d7-54f1-4b65-82a2-0e5ab17d6c6f",
   "metadata": {},
   "source": [
    "### Check if a string contains only digits"
   ]
  },
  {
   "cell_type": "code",
   "execution_count": 47,
   "id": "6c2dd416-4258-4647-bcb3-3483b2f566ee",
   "metadata": {},
   "outputs": [],
   "source": [
    "def is_only_digit(s):\n",
    "    return s.isdigit()"
   ]
  },
  {
   "cell_type": "code",
   "execution_count": 49,
   "id": "7c29c95d-5965-47df-bd1d-3cc09030c3af",
   "metadata": {},
   "outputs": [
    {
     "name": "stdout",
     "output_type": "stream",
     "text": [
      "True\n"
     ]
    }
   ],
   "source": [
    "print(is_only_digit(\"12345\"))"
   ]
  },
  {
   "cell_type": "markdown",
   "id": "277b2c01-5420-4b07-a414-86bcec0b1358",
   "metadata": {},
   "source": [
    "### Remove whitespace from the string"
   ]
  },
  {
   "cell_type": "code",
   "execution_count": 60,
   "id": "42cabb5a-3d53-459b-8419-17f4ba0ca5bb",
   "metadata": {},
   "outputs": [],
   "source": [
    "company1 = \"company1 is the best company to work for\""
   ]
  },
  {
   "cell_type": "code",
   "execution_count": 62,
   "id": "eef5e2a4-ec11-413d-a936-f264f7774e82",
   "metadata": {},
   "outputs": [
    {
     "name": "stdout",
     "output_type": "stream",
     "text": [
      "company1isthebestcompanytoworkfor\n"
     ]
    }
   ],
   "source": [
    "df = company1.replace(\" \", \"\")\n",
    "print(df)"
   ]
  },
  {
   "cell_type": "code",
   "execution_count": 56,
   "id": "9c4df09b-e5ba-435d-b90c-5f55ae024aed",
   "metadata": {},
   "outputs": [],
   "source": [
    "def remove_whitespaces(s):\n",
    "    return s.replace(\" \" ,\"\")"
   ]
  },
  {
   "cell_type": "code",
   "execution_count": 66,
   "id": "5f763fc4-a373-4ce9-9267-c8926e43b459",
   "metadata": {},
   "outputs": [
    {
     "name": "stdout",
     "output_type": "stream",
     "text": [
      "Helloworld\n"
     ]
    }
   ],
   "source": [
    "print(remove_whitespaces(\"Hello world\"))"
   ]
  },
  {
   "cell_type": "markdown",
   "id": "53a80b61-ba86-400a-b453-8a17bbabc2c8",
   "metadata": {},
   "source": [
    "### Count the occurance of a character in string"
   ]
  },
  {
   "cell_type": "code",
   "execution_count": 69,
   "id": "a4510fd3-25c0-4cbb-ae38-af025f6e7e56",
   "metadata": {},
   "outputs": [],
   "source": [
    "def count_char(s,char):\n",
    "    return s.count(char)"
   ]
  },
  {
   "cell_type": "code",
   "execution_count": 71,
   "id": "aa6622c3-5ace-45e7-b3c8-991bf0666dc8",
   "metadata": {},
   "outputs": [
    {
     "name": "stdout",
     "output_type": "stream",
     "text": [
      "2\n"
     ]
    }
   ],
   "source": [
    "print(count_char(\"hello world\", \"o\"))"
   ]
  },
  {
   "cell_type": "markdown",
   "id": "5a9c822f-3b4b-49df-98f0-235d5b1b000d",
   "metadata": {},
   "source": [
    "### Find the length of a string without using LEN() funtion"
   ]
  },
  {
   "cell_type": "code",
   "execution_count": 80,
   "id": "bfc81f3e-95d6-43ec-a5a1-1b6e1392e0ac",
   "metadata": {},
   "outputs": [],
   "source": [
    "def string_length(s):\n",
    "    count = 0\n",
    "    for _ in s:\n",
    "        count += 1\n",
    "    return count"
   ]
  },
  {
   "cell_type": "code",
   "execution_count": 82,
   "id": "ec807c9c-02af-42d1-909c-30a54f5c0266",
   "metadata": {},
   "outputs": [
    {
     "name": "stdout",
     "output_type": "stream",
     "text": [
      "5\n"
     ]
    }
   ],
   "source": [
    "print(string_length(\"hello\"))"
   ]
  },
  {
   "cell_type": "markdown",
   "id": "bad95856-46fe-4b07-9503-9c4146e985ef",
   "metadata": {},
   "source": [
    "### Convert a string to uppercase and lowercase"
   ]
  },
  {
   "cell_type": "code",
   "execution_count": 90,
   "id": "0af41cc1-1152-4823-92d5-029e1f369100",
   "metadata": {},
   "outputs": [],
   "source": [
    "def to_uppercase(s):\n",
    "    return s.upper()\n",
    "\n",
    "def to_lowercase(s):\n",
    "    return s.lower()"
   ]
  },
  {
   "cell_type": "code",
   "execution_count": 92,
   "id": "a3eab95b-20e6-44b0-88ba-9b802493b4fb",
   "metadata": {},
   "outputs": [
    {
     "name": "stdout",
     "output_type": "stream",
     "text": [
      "HELLO\n",
      "hello\n"
     ]
    }
   ],
   "source": [
    "print(to_uppercase('hello'))\n",
    "print(to_lowercase('HELLO'))"
   ]
  },
  {
   "cell_type": "markdown",
   "id": "bd6a571c-1486-4df4-b1a6-514583ddd703",
   "metadata": {},
   "source": [
    "### Replace all occurrences of a substring in a string"
   ]
  },
  {
   "cell_type": "code",
   "execution_count": 95,
   "id": "559c6bea-36e3-47b5-a095-a1800082204d",
   "metadata": {},
   "outputs": [],
   "source": [
    "def replace_string(s, old, new):\n",
    "    return s.replace(old,new)"
   ]
  },
  {
   "cell_type": "code",
   "execution_count": 99,
   "id": "24eefbf1-9469-4619-8317-ecd65593dedd",
   "metadata": {},
   "outputs": [
    {
     "name": "stdout",
     "output_type": "stream",
     "text": [
      "ritesh pardeshi\n"
     ]
    }
   ],
   "source": [
    "print(replace_string('ritesh datson', 'datson','pardeshi'))"
   ]
  },
  {
   "cell_type": "markdown",
   "id": "9d32d4a0-ac27-43a1-bb18-c5387bbc4167",
   "metadata": {},
   "source": [
    "### Capitalize the first letter of each word in a string"
   ]
  },
  {
   "cell_type": "code",
   "execution_count": 2,
   "id": "196c5d4f-5527-439d-8ec9-e99804800337",
   "metadata": {},
   "outputs": [],
   "source": [
    "def capitalize_words(s):\n",
    "    return s.title()"
   ]
  },
  {
   "cell_type": "code",
   "execution_count": 6,
   "id": "d4bc5fe2-45a0-4d33-b2dc-7c041b92fc90",
   "metadata": {},
   "outputs": [
    {
     "name": "stdout",
     "output_type": "stream",
     "text": [
      "Hello World\n"
     ]
    }
   ],
   "source": [
    "print(capitalize_words(\"hello world\"))"
   ]
  },
  {
   "cell_type": "markdown",
   "id": "b1f51ee9-c918-40cd-9aa4-ef5b44e05061",
   "metadata": {},
   "source": [
    "### Find the longer word in a string"
   ]
  },
  {
   "cell_type": "code",
   "execution_count": 44,
   "id": "53722259-1489-44d3-9e68-4e745159e1ed",
   "metadata": {},
   "outputs": [],
   "source": [
    "def longest_word(s):\n",
    "    word = s.split()\n",
    "    return max(word,key=len)"
   ]
  },
  {
   "cell_type": "code",
   "execution_count": 48,
   "id": "de65c125-652e-4a85-a4fb-dc88b0ef3767",
   "metadata": {},
   "outputs": [
    {
     "name": "stdout",
     "output_type": "stream",
     "text": [
      "Quality\n"
     ]
    }
   ],
   "source": [
    "print(longest_word(\"Data Quality Analyst\"))"
   ]
  },
  {
   "cell_type": "markdown",
   "id": "3d6de5b9-d5e1-4317-b7ac-52a3d05b24a8",
   "metadata": {},
   "source": [
    "### Remove duplicate character from a string"
   ]
  },
  {
   "cell_type": "code",
   "execution_count": 60,
   "id": "6cc460a0-2bf1-4d3b-8d1b-b127f55aec2f",
   "metadata": {},
   "outputs": [],
   "source": [
    "def remove_duplicate(s):\n",
    "    result = []\n",
    "    for char in s:\n",
    "        if char not in result:\n",
    "            result.append(char)\n",
    "    return ''.join(result)       "
   ]
  },
  {
   "cell_type": "code",
   "execution_count": 62,
   "id": "58b47108-c8ab-4d98-975e-e16d3e945335",
   "metadata": {},
   "outputs": [
    {
     "name": "stdout",
     "output_type": "stream",
     "text": [
      "progamin\n"
     ]
    }
   ],
   "source": [
    "print(remove_duplicate('programming'))"
   ]
  },
  {
   "cell_type": "markdown",
   "id": "55ddec7d-a4d1-4891-80fa-5715e304c337",
   "metadata": {},
   "source": [
    "### Reverse the order of words in a string"
   ]
  },
  {
   "cell_type": "code",
   "execution_count": 77,
   "id": "20a3fec3-79ad-42c3-9cf3-540af3b8c427",
   "metadata": {},
   "outputs": [],
   "source": [
    "def reverse_word(s):\n",
    "    return ' '.join(s.split()[::-1])"
   ]
  },
  {
   "cell_type": "code",
   "execution_count": 83,
   "id": "f34e0744-6cf8-4184-a3eb-3f9a236af000",
   "metadata": {},
   "outputs": [
    {
     "name": "stdout",
     "output_type": "stream",
     "text": [
      "Rat loves Pyhton\n"
     ]
    }
   ],
   "source": [
    "print(reverse_word(\"Pyhton loves Rat\"))"
   ]
  },
  {
   "cell_type": "markdown",
   "id": "5913be72-47d0-4d2f-9433-e923f8f18d24",
   "metadata": {},
   "source": [
    "### Count the frequency of each character in string"
   ]
  },
  {
   "cell_type": "code",
   "execution_count": 86,
   "id": "41531fa8-aa47-485e-bf40-bc92efbb61b9",
   "metadata": {},
   "outputs": [],
   "source": [
    "def char_frequency(s):\n",
    "    freq = {}\n",
    "    for char in s:\n",
    "        if char in freq:\n",
    "            freq[char] +=1\n",
    "        else:\n",
    "            freq[char] = 1\n",
    "    return freq"
   ]
  },
  {
   "cell_type": "code",
   "execution_count": 90,
   "id": "49d59e47-0d7c-4a4e-8180-509525eb2788",
   "metadata": {},
   "outputs": [
    {
     "name": "stdout",
     "output_type": "stream",
     "text": [
      "{'H': 1, 'e': 1, 'l': 3, 'o': 2, ' ': 1, 'w': 1, 'r': 1, 'd': 1}\n",
      "{'r': 6}\n"
     ]
    }
   ],
   "source": [
    "print(char_frequency(\"Hello world\"))\n",
    "print(char_frequency(\"rrrrrr\"))"
   ]
  },
  {
   "cell_type": "markdown",
   "id": "1ceb9d4a-83fa-4a5a-a771-23496686e7f5",
   "metadata": {},
   "source": [
    "### Find the maximum and minimum element in a list"
   ]
  },
  {
   "cell_type": "code",
   "execution_count": 93,
   "id": "c73f2e32-1668-485b-8b2e-3f002045e0fa",
   "metadata": {},
   "outputs": [],
   "source": [
    "def max_min(list):\n",
    "    return max(list),min(list)"
   ]
  },
  {
   "cell_type": "code",
   "execution_count": 97,
   "id": "8f448811-0c0c-462e-a7d9-145d62428688",
   "metadata": {},
   "outputs": [
    {
     "name": "stdout",
     "output_type": "stream",
     "text": [
      "(765, 2)\n"
     ]
    }
   ],
   "source": [
    "print(max_min([12,32,43,5,4,2,26,54,745,765,84,351]))"
   ]
  },
  {
   "cell_type": "markdown",
   "id": "485664c5-da78-4da9-9baa-2973e76bf6a6",
   "metadata": {},
   "source": [
    "### Remove duplicates from a list"
   ]
  },
  {
   "cell_type": "code",
   "execution_count": 100,
   "id": "3ac04102-50f4-4a0e-bd49-dcb101e6a134",
   "metadata": {},
   "outputs": [],
   "source": [
    "def remove_duplicate(lst):\n",
    "    return list(set(lst))"
   ]
  },
  {
   "cell_type": "code",
   "execution_count": 102,
   "id": "489a6cf5-f615-42ba-9e39-595f8276bc27",
   "metadata": {},
   "outputs": [
    {
     "name": "stdout",
     "output_type": "stream",
     "text": [
      "[1, 2, 3, 4, 5]\n"
     ]
    }
   ],
   "source": [
    "print(remove_duplicate([1,2,3,4,4,5]))"
   ]
  },
  {
   "cell_type": "markdown",
   "id": "89fae7eb-6908-44d1-9190-85e4d1072944",
   "metadata": {},
   "source": [
    "### Count the occurrences of an element in a list"
   ]
  },
  {
   "cell_type": "markdown",
   "id": "d51d4de4-30dc-4481-9aa4-ed124449faf7",
   "metadata": {},
   "source": [
    "def count_occurrence(list,element):\n",
    "    return list.count(element)"
   ]
  },
  {
   "cell_type": "code",
   "execution_count": 108,
   "id": "fffe7b6e-3c1a-4459-8d3e-795df18566aa",
   "metadata": {},
   "outputs": [
    {
     "name": "stdout",
     "output_type": "stream",
     "text": [
      "4\n"
     ]
    }
   ],
   "source": [
    "print(count_occurrence([1,2,2,2,2,3,4,5,6],2))"
   ]
  },
  {
   "cell_type": "markdown",
   "id": "174b6af2-61f1-422b-8718-d8aa1bf09112",
   "metadata": {},
   "source": [
    "### Find the sum of all element in a list"
   ]
  },
  {
   "cell_type": "code",
   "execution_count": 2,
   "id": "4536d8b3-8be9-4cd7-bd30-da8ad93e90ac",
   "metadata": {},
   "outputs": [],
   "source": [
    "def sum_list(lst):\n",
    "    return sum(lst)"
   ]
  },
  {
   "cell_type": "code",
   "execution_count": 8,
   "id": "d7a58907-8035-4afa-abc4-771ea9c5f1c6",
   "metadata": {},
   "outputs": [
    {
     "name": "stdout",
     "output_type": "stream",
     "text": [
      "15\n"
     ]
    }
   ],
   "source": [
    "print(sum_list([1,2,3,4,5]))"
   ]
  },
  {
   "cell_type": "markdown",
   "id": "67b19d4a-62a7-45c0-b3bd-9eabe311134a",
   "metadata": {},
   "source": [
    "### Check if a list is empty"
   ]
  },
  {
   "cell_type": "code",
   "execution_count": 11,
   "id": "54c0d140-7acc-45cc-b6d6-71d71afcf53d",
   "metadata": {},
   "outputs": [],
   "source": [
    "def is_list_empty(list):\n",
    "    return len(list) == 0"
   ]
  },
  {
   "cell_type": "code",
   "execution_count": 17,
   "id": "c6ba27f5-afcd-4389-8638-d99680a688f2",
   "metadata": {},
   "outputs": [
    {
     "name": "stdout",
     "output_type": "stream",
     "text": [
      "False\n",
      "True\n"
     ]
    }
   ],
   "source": [
    "print(is_list_empty([1,2,3,4]))\n",
    "print(is_list_empty([]))"
   ]
  },
  {
   "cell_type": "markdown",
   "id": "e692bb12-d368-45fd-b22f-608bd0c2fd92",
   "metadata": {},
   "source": [
    "### Concatenate two lists"
   ]
  },
  {
   "cell_type": "code",
   "execution_count": 22,
   "id": "83eab547-b01f-484d-bba4-346d63c07c87",
   "metadata": {},
   "outputs": [],
   "source": [
    "def concatenate_lists(list1 , list2):\n",
    "    return list1 + list2"
   ]
  },
  {
   "cell_type": "code",
   "execution_count": 24,
   "id": "a08df9bb-93a1-46de-9bfd-e9bd13be96db",
   "metadata": {},
   "outputs": [
    {
     "name": "stdout",
     "output_type": "stream",
     "text": [
      "[1, 2, 23, 45]\n"
     ]
    }
   ],
   "source": [
    "print(concatenate_lists([1,2],[23,45]))"
   ]
  },
  {
   "cell_type": "markdown",
   "id": "6f4527b4-8af6-4df6-87e4-8999760eae1e",
   "metadata": {},
   "source": [
    "### Check if an element exists in a list"
   ]
  },
  {
   "cell_type": "code",
   "execution_count": 27,
   "id": "6874dcf2-b6a3-4976-8c9b-a8f8e52a8e11",
   "metadata": {},
   "outputs": [],
   "source": [
    "def element_exists(list,element):\n",
    "    return element in list"
   ]
  },
  {
   "cell_type": "code",
   "execution_count": 29,
   "id": "2dbfb1d9-195f-4260-9884-c77c04654dd8",
   "metadata": {},
   "outputs": [
    {
     "name": "stdout",
     "output_type": "stream",
     "text": [
      "True\n"
     ]
    }
   ],
   "source": [
    "print(element_exists([1,2,3,4,5,20],20))"
   ]
  },
  {
   "cell_type": "markdown",
   "id": "23db1c74-5652-4471-8145-5632e72faf75",
   "metadata": {},
   "source": [
    "### Split a list into even and odd numbers"
   ]
  },
  {
   "cell_type": "code",
   "execution_count": 32,
   "id": "0853fc20-582b-4fd8-ae24-73e1163ba25d",
   "metadata": {},
   "outputs": [],
   "source": [
    "def split_even_odd(list):\n",
    "    even = [x for x in list if x % 2 == 0]\n",
    "    odd = [x for x in list if x % 2 != 0]\n",
    "    return even, odd"
   ]
  },
  {
   "cell_type": "code",
   "execution_count": 34,
   "id": "8d37f158-9769-4aae-a590-cbb1212a9a7c",
   "metadata": {},
   "outputs": [],
   "source": [
    "list1 = [23,45,3,10,67,89,66]"
   ]
  },
  {
   "cell_type": "code",
   "execution_count": 36,
   "id": "676d0907-7b8f-49da-a01d-6c13caca0053",
   "metadata": {},
   "outputs": [
    {
     "name": "stdout",
     "output_type": "stream",
     "text": [
      "([10, 66], [23, 45, 3, 67, 89])\n"
     ]
    }
   ],
   "source": [
    "print(split_even_odd(list1))"
   ]
  },
  {
   "cell_type": "markdown",
   "id": "b9dd6834-53fa-4837-9f5b-39d5b44942b2",
   "metadata": {},
   "source": [
    "### Count the number of odd and even number in a list"
   ]
  },
  {
   "cell_type": "code",
   "execution_count": 39,
   "id": "405a9225-57f9-4048-9255-625371c42e40",
   "metadata": {},
   "outputs": [],
   "source": [
    "def count_odd_even(list):\n",
    "    even_count = len([x for x in list if x % 2 == 0])\n",
    "    odd_count = len([x for x in list if x % 2 != 0])\n",
    "    return even_count, odd_count"
   ]
  },
  {
   "cell_type": "code",
   "execution_count": 43,
   "id": "7c3cd1df-4b2a-4d12-8c73-c33613f4406f",
   "metadata": {},
   "outputs": [
    {
     "name": "stdout",
     "output_type": "stream",
     "text": [
      "(2, 5)\n"
     ]
    }
   ],
   "source": [
    "print(count_odd_even(list1))"
   ]
  },
  {
   "cell_type": "markdown",
   "id": "f5cd94d2-d62d-4f25-ad3c-0191c3e67cfb",
   "metadata": {},
   "source": [
    "### Remove all occurance of a value from a list"
   ]
  },
  {
   "cell_type": "code",
   "execution_count": 46,
   "id": "3653e5f5-9171-4c65-bb0c-28fcfc1fcfb8",
   "metadata": {},
   "outputs": [],
   "source": [
    "def remove_value(list,element):\n",
    "    return [x for x in list if x != element]"
   ]
  },
  {
   "cell_type": "code",
   "execution_count": 48,
   "id": "7f0071bd-dd7f-4cef-bf59-96233eaf0dda",
   "metadata": {},
   "outputs": [
    {
     "name": "stdout",
     "output_type": "stream",
     "text": [
      "[1, 2, 5, 56, 7, 8]\n"
     ]
    }
   ],
   "source": [
    "print(remove_value([1,2,43,5,56,7,8],43))"
   ]
  },
  {
   "cell_type": "markdown",
   "id": "27d67b80-a044-4cc8-ae60-81ae1fb115a2",
   "metadata": {},
   "source": [
    "### Find the cumulative sum of elements in list"
   ]
  },
  {
   "cell_type": "code",
   "execution_count": 51,
   "id": "03308054-ce2c-4047-8c13-affb579a767e",
   "metadata": {},
   "outputs": [],
   "source": [
    "def cumulative_sum(list):\n",
    "    cum_sum = []\n",
    "    total = 0 \n",
    "    for x in list:\n",
    "        total += x\n",
    "        cum_sum.append(total)\n",
    "    return cum_sum"
   ]
  },
  {
   "cell_type": "code",
   "execution_count": 53,
   "id": "875e60b7-6930-4122-b1fa-4e30248ed293",
   "metadata": {},
   "outputs": [
    {
     "name": "stdout",
     "output_type": "stream",
     "text": [
      "[23, 68, 71, 81, 148, 237, 303]\n"
     ]
    }
   ],
   "source": [
    "print(cumulative_sum(list1))"
   ]
  },
  {
   "cell_type": "markdown",
   "id": "3e560392-7e43-47f8-90ba-12df40524581",
   "metadata": {},
   "source": [
    "### Write a code to check if a number is positive, negative, or zero"
   ]
  },
  {
   "cell_type": "code",
   "execution_count": 56,
   "id": "a0737c42-f09a-44e0-92b4-30ee09da5df8",
   "metadata": {},
   "outputs": [],
   "source": [
    "def check_number(num):\n",
    "    if num > 0:\n",
    "        return 'positive'\n",
    "    elif num < 0:\n",
    "        return 'negative'\n",
    "    else:\n",
    "        return 'zero'"
   ]
  },
  {
   "cell_type": "code",
   "execution_count": 62,
   "id": "1061758d-ae4f-4ef3-9d32-6f40d690c935",
   "metadata": {},
   "outputs": [
    {
     "name": "stdout",
     "output_type": "stream",
     "text": [
      "positive\n",
      "negative\n",
      "zero\n"
     ]
    }
   ],
   "source": [
    "print(check_number(10))\n",
    "print(check_number(-1))\n",
    "print(check_number(0))"
   ]
  },
  {
   "cell_type": "markdown",
   "id": "567aa53a-9463-4bdf-8591-6f80e3e7c633",
   "metadata": {},
   "source": [
    "### Check if a number is odd or even"
   ]
  },
  {
   "cell_type": "code",
   "execution_count": 65,
   "id": "5fe7b363-a710-444a-adee-8f5773606f92",
   "metadata": {},
   "outputs": [],
   "source": [
    "def check_odd_even(n):\n",
    "    return \"Even\" if n % 2 == 0 else \"Odd\""
   ]
  },
  {
   "cell_type": "code",
   "execution_count": 69,
   "id": "82ed6bab-c928-47c1-8a3e-c2bf4d4f22bf",
   "metadata": {},
   "outputs": [
    {
     "name": "stdout",
     "output_type": "stream",
     "text": [
      "Odd\n",
      "Even\n"
     ]
    }
   ],
   "source": [
    "print(check_odd_even(3))\n",
    "print(check_odd_even(22))"
   ]
  },
  {
   "cell_type": "markdown",
   "id": "9a8ea66e-6cd3-41f1-b6a3-eb51ffe2a2ef",
   "metadata": {},
   "source": [
    "### Determine the grade based on score"
   ]
  },
  {
   "cell_type": "code",
   "execution_count": 72,
   "id": "8f573eba-4cf3-49ae-a13b-e795abce23aa",
   "metadata": {},
   "outputs": [],
   "source": [
    "def determine_grade(score):\n",
    "    if score >= 90:\n",
    "        return 'A'\n",
    "    elif score >= 80:\n",
    "        return 'B'\n",
    "    elif score >= 70:\n",
    "        return 'C'\n",
    "    elif score >= 60:\n",
    "        return 'D'\n",
    "    else:\n",
    "        return 'F'"
   ]
  },
  {
   "cell_type": "code",
   "execution_count": 76,
   "id": "0dd20bcf-bc63-440d-b727-05d90bc97f6f",
   "metadata": {},
   "outputs": [
    {
     "name": "stdout",
     "output_type": "stream",
     "text": [
      "A\n",
      "B\n",
      "C\n",
      "D\n",
      "F\n"
     ]
    }
   ],
   "source": [
    "print(determine_grade(91))\n",
    "print(determine_grade(81))\n",
    "print(determine_grade(70))\n",
    "print(determine_grade(65))\n",
    "print(determine_grade(40))"
   ]
  },
  {
   "cell_type": "markdown",
   "id": "75a3fda5-1756-400f-877e-873a8e365313",
   "metadata": {},
   "source": [
    "# ALL THE BEST"
   ]
  },
  {
   "cell_type": "code",
   "execution_count": null,
   "id": "f1b4a123-d46b-47d6-8fbc-57b30ba3e16b",
   "metadata": {},
   "outputs": [],
   "source": []
  }
 ],
 "metadata": {
  "kernelspec": {
   "display_name": "Python 3 (ipykernel)",
   "language": "python",
   "name": "python3"
  },
  "language_info": {
   "codemirror_mode": {
    "name": "ipython",
    "version": 3
   },
   "file_extension": ".py",
   "mimetype": "text/x-python",
   "name": "python",
   "nbconvert_exporter": "python",
   "pygments_lexer": "ipython3",
   "version": "3.12.4"
  }
 },
 "nbformat": 4,
 "nbformat_minor": 5
}
